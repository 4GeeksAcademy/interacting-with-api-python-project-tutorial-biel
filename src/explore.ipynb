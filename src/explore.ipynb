{
    "cells": [
        {
            "cell_type": "markdown",
            "metadata": {},
            "source": [
                "# Explore here"
            ]
        },
        {
            "cell_type": "code",
            "execution_count": 8,
            "metadata": {},
            "outputs": [
                {
                    "data": {
                        "text/plain": [
                            "True"
                        ]
                    },
                    "execution_count": 8,
                    "metadata": {},
                    "output_type": "execute_result"
                }
            ],
            "source": [
                "import os\n",
                "import pandas as pd\n",
                "#import seaborn as sns\n",
                "from dotenv import load_dotenv\n",
                "import spotipy\n",
                "\n",
                "# load the .env file variables\n",
                "load_dotenv()\n",
                "\n"
            ]
        },
        {
            "cell_type": "code",
            "execution_count": null,
            "metadata": {},
            "outputs": [
                {
                    "name": "stdout",
                    "output_type": "stream",
                    "text": [
                        "Defaulting to user installation because normal site-packages is not writeable\n",
                        "Requirement already satisfied: pip in /usr/local/lib/python3.11/site-packages (23.1.2)\n",
                        "Collecting pip\n",
                        "  Downloading pip-24.3.1-py3-none-any.whl (1.8 MB)\n",
                        "\u001b[2K     \u001b[90m━━━━━━━━━━━━━━━━━━━━━━━━━━━━━━━━━━━━━━━━\u001b[0m \u001b[32m1.8/1.8 MB\u001b[0m \u001b[31m38.9 MB/s\u001b[0m eta \u001b[36m0:00:00\u001b[0m00:01\u001b[0m\n",
                        "\u001b[?25hInstalling collected packages: pip\n",
                        "Successfully installed pip-24.3.1\n"
                    ]
                }
            ],
            "source": [
                "! pip install spotipy"
            ]
        },
        {
            "cell_type": "code",
            "execution_count": 14,
            "metadata": {},
            "outputs": [
                {
                    "name": "stdout",
                    "output_type": "stream",
                    "text": [
                        "5447a5649cdd44eaa3a97f1955449429\n"
                    ]
                }
            ],
            "source": [
                "from dotenv import load_dotenv\n",
                "load_dotenv(\"/workspaces/interacting-with-api-python-project-tutorial-biel/src/credentials.env\")\n",
                "\n",
                "import os\n",
                "\n",
                "client_id = os.environ.get(\"CLIENT_ID\")\n",
                "client_secret = os.environ.get(\"CLIENT_SECRET\")\n",
                "\n",
                "print(client_id)"
            ]
        },
        {
            "cell_type": "code",
            "execution_count": 31,
            "metadata": {},
            "outputs": [
                {
                    "name": "stdout",
                    "output_type": "stream",
                    "text": [
                        " Track: Jingle Bell Rock\n",
                        " Duración: 130973\n",
                        " Popularidad: 91\n",
                        "\n",
                        " Track: Jingle Bell Rock (with Maria Becerra)\n",
                        " Duración: 141818\n",
                        " Popularidad: 55\n",
                        "\n",
                        " Track: Captain Santa Claus (And His Reindeer Space Patrol)\n",
                        " Duración: 151533\n",
                        " Popularidad: 30\n",
                        "\n",
                        " Track: Jingle Bell Rock (Special Nashville Edition)\n",
                        " Duración: 138226\n",
                        " Popularidad: 43\n",
                        "\n",
                        " Track: My Special Angel\n",
                        " Duración: 179293\n",
                        " Popularidad: 39\n",
                        "\n",
                        " Track: I Wanna Go To Santa Claus Land\n",
                        " Duración: 103080\n",
                        " Popularidad: 36\n",
                        "\n",
                        " Track: Santa Claus Is Coming To Town\n",
                        " Duración: 110306\n",
                        " Popularidad: 35\n",
                        "\n",
                        " Track: Fraulein\n",
                        " Duración: 161453\n",
                        " Popularidad: 11\n",
                        "\n",
                        " Track: Here Comes Santa Claus\n",
                        " Duración: 127040\n",
                        " Popularidad: 32\n",
                        "\n",
                        " Track: Jingle Bell Rock - Ryan Riback Remix\n",
                        " Duración: 138986\n",
                        " Popularidad: 28\n",
                        "\n"
                    ]
                }
            ],
            "source": [
                "from spotipy.oauth2 import SpotifyClientCredentials\n",
                "import string\n",
                "\n",
                "client_credentials_manager = SpotifyClientCredentials(client_id=client_id, client_secret=client_secret)\n",
                "sp = spotipy.Spotify(client_credentials_manager=client_credentials_manager)\n",
                "\n",
                "id_artist = \"38EmEgXkgK51MT2tPY0EoC\"\n",
                "\n",
                "lz_uri = 'spotify:artist:38EmEgXkgK51MT2tPY0EoC'\n",
                "results = sp.artist_top_tracks(lz_uri)\n",
                "\n",
                "for track in results['tracks'][:10]:\n",
                "    print (f\" Track: {track['name']}\")\n",
                "    print (f\" Duración: {track['duration_ms']}\")\n",
                "    print (f\" Popularidad: {track['popularity']}\")\n",
                "    print()"
            ]
        },
        {
            "cell_type": "code",
            "execution_count": 61,
            "metadata": {},
            "outputs": [
                {
                    "data": {
                        "text/html": [
                            "<div>\n",
                            "<style scoped>\n",
                            "    .dataframe tbody tr th:only-of-type {\n",
                            "        vertical-align: middle;\n",
                            "    }\n",
                            "\n",
                            "    .dataframe tbody tr th {\n",
                            "        vertical-align: top;\n",
                            "    }\n",
                            "\n",
                            "    .dataframe thead th {\n",
                            "        text-align: right;\n",
                            "    }\n",
                            "</style>\n",
                            "<table border=\"1\" class=\"dataframe\">\n",
                            "  <thead>\n",
                            "    <tr style=\"text-align: right;\">\n",
                            "      <th></th>\n",
                            "      <th>Cancion</th>\n",
                            "      <th>Duracion</th>\n",
                            "      <th>Popularidad</th>\n",
                            "    </tr>\n",
                            "  </thead>\n",
                            "  <tbody>\n",
                            "    <tr>\n",
                            "      <th>7</th>\n",
                            "      <td>Fraulein</td>\n",
                            "      <td>2.69</td>\n",
                            "      <td>11</td>\n",
                            "    </tr>\n",
                            "    <tr>\n",
                            "      <th>9</th>\n",
                            "      <td>Jingle Bell Rock - Ryan Riback Remix</td>\n",
                            "      <td>2.32</td>\n",
                            "      <td>28</td>\n",
                            "    </tr>\n",
                            "    <tr>\n",
                            "      <th>2</th>\n",
                            "      <td>Captain Santa Claus (And His Reindeer Space Pa...</td>\n",
                            "      <td>2.53</td>\n",
                            "      <td>30</td>\n",
                            "    </tr>\n",
                            "  </tbody>\n",
                            "</table>\n",
                            "</div>"
                        ],
                        "text/plain": [
                            "                                             Cancion  Duracion  Popularidad\n",
                            "7                                           Fraulein      2.69           11\n",
                            "9               Jingle Bell Rock - Ryan Riback Remix      2.32           28\n",
                            "2  Captain Santa Claus (And His Reindeer Space Pa...      2.53           30"
                        ]
                    },
                    "execution_count": 61,
                    "metadata": {},
                    "output_type": "execute_result"
                }
            ],
            "source": [
                "data = []\n",
                "top_track = results['tracks'[:10]]\n",
                "for track in top_track:\n",
                "    name= track['name']\n",
                "    duration= round((track['duration_ms'])/60000,2)\n",
                "    popularity= track['popularity']\n",
                "    data.append ((name, duration, popularity))\n",
                "\n",
                "df = pd.DataFrame(data,columns=['Cancion','Duracion','Popularidad'])\n",
                "\n",
                "df_sorted = df.sort_values(by='Popularidad', ascending=True)\n",
                "\n",
                "\n",
                "df_sorted[:3]"
            ]
        },
        {
            "cell_type": "code",
            "execution_count": 62,
            "metadata": {},
            "outputs": [
                {
                    "data": {
                        "image/png": "[encoded data removed]",
                        "text/plain": [
                            "<Figure size 800x500 with 1 Axes>"
                        ]
                    },
                    "metadata": {},
                    "output_type": "display_data"
                }
            ],
            "source": [
                "import matplotlib.pyplot as plt\n",
                "import seaborn as sns\n",
                "\n",
                "plt.figure(figsize=(8, 5))\n",
                "sns.scatterplot(data=df_sorted, x='Duracion', y='Popularidad')\n",
                "\n",
                "plt.title('Relación entre Duración y Popularidad', fontsize=14)\n",
                "plt.xlabel('Duración', fontsize=12)\n",
                "plt.ylabel('Popularidad', fontsize=12)\n",
                "plt.grid(True)\n",
                "\n",
                "plt.tight_layout()\n",
                "plt.show()"
            ]
        },
        {
            "cell_type": "code",
            "execution_count": 64,
            "metadata": {},
            "outputs": [
                {
                    "data": {
                        "text/plain": [
                            "'Una vez observado los resultados en el gráfico, podemos concluir que no presenta una relación entre la duración de la canción con su popularidad'"
                        ]
                    },
                    "execution_count": 64,
                    "metadata": {},
                    "output_type": "execute_result"
                }
            ],
            "source": [
                "conclusion = 'Una vez observado los resultados en el gráfico, podemos concluir que no presenta una relación entre la duración de la canción con su popularidad'\n",
                "conclusion"
            ]
        }
    ],
    "metadata": {
        "kernelspec": {
            "display_name": "Python 3",
            "language": "python",
            "name": "python3"
        },
        "language_info": {
            "codemirror_mode": {
                "name": "ipython",
                "version": 3
            },
            "file_extension": ".py",
            "mimetype": "text/x-python",
            "name": "python",
            "nbconvert_exporter": "python",
            "pygments_lexer": "ipython3",
            "version": "3.11.4"
        },
        "orig_nbformat": 4
    },
    "nbformat": 4,
    "nbformat_minor": 2
}
